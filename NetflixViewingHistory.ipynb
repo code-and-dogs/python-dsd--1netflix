{
 "cells": [
  {
   "cell_type": "code",
   "execution_count": 1,
   "id": "4e6a9de7",
   "metadata": {},
   "outputs": [],
   "source": [
    "import pandas as pd\n",
    "df = pd.read_csv('ViewingActivity.csv')"
   ]
  },
  {
   "cell_type": "code",
   "execution_count": 2,
   "id": "648c392a",
   "metadata": {},
   "outputs": [
    {
     "data": {
      "text/plain": [
       "(9273, 10)"
      ]
     },
     "execution_count": 2,
     "metadata": {},
     "output_type": "execute_result"
    }
   ],
   "source": [
    "df.shape"
   ]
  },
  {
   "cell_type": "code",
   "execution_count": 3,
   "id": "113a0292",
   "metadata": {},
   "outputs": [
    {
     "data": {
      "text/html": [
       "<div>\n",
       "<style scoped>\n",
       "    .dataframe tbody tr th:only-of-type {\n",
       "        vertical-align: middle;\n",
       "    }\n",
       "\n",
       "    .dataframe tbody tr th {\n",
       "        vertical-align: top;\n",
       "    }\n",
       "\n",
       "    .dataframe thead th {\n",
       "        text-align: right;\n",
       "    }\n",
       "</style>\n",
       "<table border=\"1\" class=\"dataframe\">\n",
       "  <thead>\n",
       "    <tr style=\"text-align: right;\">\n",
       "      <th></th>\n",
       "      <th>Profile Name</th>\n",
       "      <th>Start Time</th>\n",
       "      <th>Duration</th>\n",
       "      <th>Attributes</th>\n",
       "      <th>Title</th>\n",
       "      <th>Supplemental Video Type</th>\n",
       "      <th>Device Type</th>\n",
       "      <th>Bookmark</th>\n",
       "      <th>Latest Bookmark</th>\n",
       "      <th>Country</th>\n",
       "    </tr>\n",
       "  </thead>\n",
       "  <tbody>\n",
       "    <tr>\n",
       "      <th>0</th>\n",
       "      <td>Mom &amp; Dad</td>\n",
       "      <td>2022-09-27 21:16:43</td>\n",
       "      <td>00:00:13</td>\n",
       "      <td>Autoplayed: user action: None;</td>\n",
       "      <td>Die Strafe Gottes (Clip): Die Strafe Gottes</td>\n",
       "      <td>HOOK</td>\n",
       "      <td>Samsung CE 2020 Nike-L UHD TV Smart TV</td>\n",
       "      <td>00:00:13</td>\n",
       "      <td>00:00:13</td>\n",
       "      <td>DE (Germany)</td>\n",
       "    </tr>\n",
       "    <tr>\n",
       "      <th>1</th>\n",
       "      <td>Mom &amp; Dad</td>\n",
       "      <td>2022-09-27 19:00:02</td>\n",
       "      <td>02:09:10</td>\n",
       "      <td>Autoplayed: user action: User_Interaction;</td>\n",
       "      <td>A Beautiful Mind – Genie und Wahnsinn</td>\n",
       "      <td>NaN</td>\n",
       "      <td>Samsung CE 2020 Nike-L UHD TV Smart TV</td>\n",
       "      <td>02:09:11</td>\n",
       "      <td>02:09:11</td>\n",
       "      <td>DE (Germany)</td>\n",
       "    </tr>\n",
       "    <tr>\n",
       "      <th>2</th>\n",
       "      <td>Mom &amp; Dad</td>\n",
       "      <td>2022-09-27 18:58:40</td>\n",
       "      <td>00:00:06</td>\n",
       "      <td>Autoplayed: user action: None;</td>\n",
       "      <td>A Jazzman's Blues (Clip): A Jazzman's Blues</td>\n",
       "      <td>HOOK</td>\n",
       "      <td>Samsung CE 2020 Nike-L UHD TV Smart TV</td>\n",
       "      <td>00:00:06</td>\n",
       "      <td>00:00:06</td>\n",
       "      <td>DE (Germany)</td>\n",
       "    </tr>\n",
       "    <tr>\n",
       "      <th>3</th>\n",
       "      <td>Mom &amp; Dad</td>\n",
       "      <td>2022-09-26 18:35:22</td>\n",
       "      <td>01:41:17</td>\n",
       "      <td>NaN</td>\n",
       "      <td>Lou</td>\n",
       "      <td>NaN</td>\n",
       "      <td>Samsung CE 2020 Nike-L UHD TV Smart TV</td>\n",
       "      <td>01:41:19</td>\n",
       "      <td>01:41:19</td>\n",
       "      <td>DE (Germany)</td>\n",
       "    </tr>\n",
       "    <tr>\n",
       "      <th>4</th>\n",
       "      <td>Mom &amp; Dad</td>\n",
       "      <td>2022-09-26 18:35:07</td>\n",
       "      <td>00:00:13</td>\n",
       "      <td>Autoplayed: user action: None;</td>\n",
       "      <td>Lou (Clip 5): Lou</td>\n",
       "      <td>HOOK</td>\n",
       "      <td>Samsung CE 2020 Nike-L UHD TV Smart TV</td>\n",
       "      <td>00:00:13</td>\n",
       "      <td>00:00:13</td>\n",
       "      <td>DE (Germany)</td>\n",
       "    </tr>\n",
       "  </tbody>\n",
       "</table>\n",
       "</div>"
      ],
      "text/plain": [
       "  Profile Name           Start Time  Duration  \\\n",
       "0    Mom & Dad  2022-09-27 21:16:43  00:00:13   \n",
       "1    Mom & Dad  2022-09-27 19:00:02  02:09:10   \n",
       "2    Mom & Dad  2022-09-27 18:58:40  00:00:06   \n",
       "3    Mom & Dad  2022-09-26 18:35:22  01:41:17   \n",
       "4    Mom & Dad  2022-09-26 18:35:07  00:00:13   \n",
       "\n",
       "                                    Attributes  \\\n",
       "0              Autoplayed: user action: None;    \n",
       "1  Autoplayed: user action: User_Interaction;    \n",
       "2              Autoplayed: user action: None;    \n",
       "3                                          NaN   \n",
       "4              Autoplayed: user action: None;    \n",
       "\n",
       "                                         Title Supplemental Video Type  \\\n",
       "0  Die Strafe Gottes (Clip): Die Strafe Gottes                    HOOK   \n",
       "1        A Beautiful Mind – Genie und Wahnsinn                     NaN   \n",
       "2  A Jazzman's Blues (Clip): A Jazzman's Blues                    HOOK   \n",
       "3                                          Lou                     NaN   \n",
       "4                            Lou (Clip 5): Lou                    HOOK   \n",
       "\n",
       "                              Device Type  Bookmark Latest Bookmark  \\\n",
       "0  Samsung CE 2020 Nike-L UHD TV Smart TV  00:00:13        00:00:13   \n",
       "1  Samsung CE 2020 Nike-L UHD TV Smart TV  02:09:11        02:09:11   \n",
       "2  Samsung CE 2020 Nike-L UHD TV Smart TV  00:00:06        00:00:06   \n",
       "3  Samsung CE 2020 Nike-L UHD TV Smart TV  01:41:19        01:41:19   \n",
       "4  Samsung CE 2020 Nike-L UHD TV Smart TV  00:00:13        00:00:13   \n",
       "\n",
       "        Country  \n",
       "0  DE (Germany)  \n",
       "1  DE (Germany)  \n",
       "2  DE (Germany)  \n",
       "3  DE (Germany)  \n",
       "4  DE (Germany)  "
      ]
     },
     "execution_count": 3,
     "metadata": {},
     "output_type": "execute_result"
    }
   ],
   "source": [
    "df.head()"
   ]
  },
  {
   "cell_type": "code",
   "execution_count": 4,
   "id": "57a32ca4",
   "metadata": {},
   "outputs": [
    {
     "data": {
      "text/html": [
       "<div>\n",
       "<style scoped>\n",
       "    .dataframe tbody tr th:only-of-type {\n",
       "        vertical-align: middle;\n",
       "    }\n",
       "\n",
       "    .dataframe tbody tr th {\n",
       "        vertical-align: top;\n",
       "    }\n",
       "\n",
       "    .dataframe thead th {\n",
       "        text-align: right;\n",
       "    }\n",
       "</style>\n",
       "<table border=\"1\" class=\"dataframe\">\n",
       "  <thead>\n",
       "    <tr style=\"text-align: right;\">\n",
       "      <th></th>\n",
       "      <th>Profile Name</th>\n",
       "      <th>Start Time</th>\n",
       "      <th>Duration</th>\n",
       "      <th>Attributes</th>\n",
       "      <th>Title</th>\n",
       "      <th>Supplemental Video Type</th>\n",
       "      <th>Device Type</th>\n",
       "      <th>Bookmark</th>\n",
       "      <th>Latest Bookmark</th>\n",
       "      <th>Country</th>\n",
       "    </tr>\n",
       "  </thead>\n",
       "  <tbody>\n",
       "    <tr>\n",
       "      <th>8101</th>\n",
       "      <td>Brother &amp; Wife</td>\n",
       "      <td>2021-05-12 17:33:29</td>\n",
       "      <td>00:09:37</td>\n",
       "      <td>Autoplayed: user action: User_Interaction;</td>\n",
       "      <td>Narcos: Staffel 2: Cambalache (Folge 2)</td>\n",
       "      <td>NaN</td>\n",
       "      <td>Samsung CE 2019 Muse-L UHD TV Smart TV</td>\n",
       "      <td>00:11:17</td>\n",
       "      <td>Not latest view</td>\n",
       "      <td>DE (Germany)</td>\n",
       "    </tr>\n",
       "    <tr>\n",
       "      <th>7750</th>\n",
       "      <td>Brother &amp; Wife</td>\n",
       "      <td>2022-01-19 08:42:37</td>\n",
       "      <td>00:00:02</td>\n",
       "      <td>NaN</td>\n",
       "      <td>John Wick: Kapitel 2</td>\n",
       "      <td>NaN</td>\n",
       "      <td>Samsung CE 2019 Muse-L UHD TV Smart TV</td>\n",
       "      <td>01:40:55</td>\n",
       "      <td>Not latest view</td>\n",
       "      <td>DE (Germany)</td>\n",
       "    </tr>\n",
       "    <tr>\n",
       "      <th>8441</th>\n",
       "      <td>Brother &amp; Wife</td>\n",
       "      <td>2020-07-31 19:57:53</td>\n",
       "      <td>00:27:26</td>\n",
       "      <td>Autoplayed: user action: Unspecified;</td>\n",
       "      <td>The Blacklist: Staffel 5: Mr. Raleigh Sinclair...</td>\n",
       "      <td>NaN</td>\n",
       "      <td>Samsung CE 2019 Muse-L UHD TV Smart TV</td>\n",
       "      <td>00:42:31</td>\n",
       "      <td>00:42:31</td>\n",
       "      <td>DE (Germany)</td>\n",
       "    </tr>\n",
       "    <tr>\n",
       "      <th>6404</th>\n",
       "      <td>Kids</td>\n",
       "      <td>2021-01-03 09:28:29</td>\n",
       "      <td>00:23:28</td>\n",
       "      <td>Autoplayed: user action: Unspecified;</td>\n",
       "      <td>DreamWorks Dragons: Auf zu neuen Ufern: Staffe...</td>\n",
       "      <td>NaN</td>\n",
       "      <td>Sony Sony Android TV 2015 Smart TV</td>\n",
       "      <td>00:22:30</td>\n",
       "      <td>00:22:30</td>\n",
       "      <td>DE (Germany)</td>\n",
       "    </tr>\n",
       "    <tr>\n",
       "      <th>3497</th>\n",
       "      <td>Code &amp; Dogs</td>\n",
       "      <td>2019-11-26 18:02:48</td>\n",
       "      <td>00:08:35</td>\n",
       "      <td>NaN</td>\n",
       "      <td>The Big Bang Theory: Staffel 10: Die Schweige-...</td>\n",
       "      <td>NaN</td>\n",
       "      <td>PC</td>\n",
       "      <td>00:08:34</td>\n",
       "      <td>Not latest view</td>\n",
       "      <td>DE (Germany)</td>\n",
       "    </tr>\n",
       "    <tr>\n",
       "      <th>7116</th>\n",
       "      <td>Kids</td>\n",
       "      <td>2020-07-10 11:29:50</td>\n",
       "      <td>00:28:00</td>\n",
       "      <td>Autoplayed: user action: Unspecified;</td>\n",
       "      <td>Dino-Zug: Staffel 1: Unter der Erde / Shinys M...</td>\n",
       "      <td>NaN</td>\n",
       "      <td>Sony Sony Android TV 2015 Smart TV</td>\n",
       "      <td>00:28:09</td>\n",
       "      <td>Not latest view</td>\n",
       "      <td>DE (Germany)</td>\n",
       "    </tr>\n",
       "    <tr>\n",
       "      <th>4952</th>\n",
       "      <td>Kids</td>\n",
       "      <td>2022-03-05 09:14:50</td>\n",
       "      <td>00:01:59</td>\n",
       "      <td>Autoplayed: user action: User_Interaction;</td>\n",
       "      <td>Pokémon: Staffel 1: Die Herausforderung (Folge 4)</td>\n",
       "      <td>NaN</td>\n",
       "      <td>Sony CE Sony Android TV 2020 M5 Smart TV</td>\n",
       "      <td>00:00:56</td>\n",
       "      <td>Not latest view</td>\n",
       "      <td>DE (Germany)</td>\n",
       "    </tr>\n",
       "    <tr>\n",
       "      <th>8944</th>\n",
       "      <td>Brother &amp; Wife</td>\n",
       "      <td>2019-09-28 20:21:36</td>\n",
       "      <td>00:40:40</td>\n",
       "      <td>Autoplayed: user action: Unspecified;</td>\n",
       "      <td>Arrow: Staffel 2: Riesenkräfte (Folge 12)</td>\n",
       "      <td>NaN</td>\n",
       "      <td>Sony PS4</td>\n",
       "      <td>00:40:40</td>\n",
       "      <td>00:40:40</td>\n",
       "      <td>DE (Germany)</td>\n",
       "    </tr>\n",
       "    <tr>\n",
       "      <th>5085</th>\n",
       "      <td>Kids</td>\n",
       "      <td>2021-12-18 09:17:38</td>\n",
       "      <td>00:19:55</td>\n",
       "      <td>NaN</td>\n",
       "      <td>Pokémon – Die TV-Serie: Sonne und Mond: Sonne ...</td>\n",
       "      <td>NaN</td>\n",
       "      <td>Sony CE Sony Android TV 2020 M5 Smart TV</td>\n",
       "      <td>00:20:46</td>\n",
       "      <td>00:20:46</td>\n",
       "      <td>DE (Germany)</td>\n",
       "    </tr>\n",
       "    <tr>\n",
       "      <th>7386</th>\n",
       "      <td>Brother &amp; Wife</td>\n",
       "      <td>2022-08-19 12:49:01</td>\n",
       "      <td>00:01:05</td>\n",
       "      <td>Autoplayed: user action: None;</td>\n",
       "      <td>Staffel 1 (Clip): Kleo</td>\n",
       "      <td>HOOK</td>\n",
       "      <td>Sony CE Sony Android TV 2020 M5 Smart TV</td>\n",
       "      <td>00:01:05</td>\n",
       "      <td>00:01:05</td>\n",
       "      <td>DE (Germany)</td>\n",
       "    </tr>\n",
       "  </tbody>\n",
       "</table>\n",
       "</div>"
      ],
      "text/plain": [
       "        Profile Name           Start Time  Duration  \\\n",
       "8101  Brother & Wife  2021-05-12 17:33:29  00:09:37   \n",
       "7750  Brother & Wife  2022-01-19 08:42:37  00:00:02   \n",
       "8441  Brother & Wife  2020-07-31 19:57:53  00:27:26   \n",
       "6404            Kids  2021-01-03 09:28:29  00:23:28   \n",
       "3497     Code & Dogs  2019-11-26 18:02:48  00:08:35   \n",
       "7116            Kids  2020-07-10 11:29:50  00:28:00   \n",
       "4952            Kids  2022-03-05 09:14:50  00:01:59   \n",
       "8944  Brother & Wife  2019-09-28 20:21:36  00:40:40   \n",
       "5085            Kids  2021-12-18 09:17:38  00:19:55   \n",
       "7386  Brother & Wife  2022-08-19 12:49:01  00:01:05   \n",
       "\n",
       "                                       Attributes  \\\n",
       "8101  Autoplayed: user action: User_Interaction;    \n",
       "7750                                          NaN   \n",
       "8441       Autoplayed: user action: Unspecified;    \n",
       "6404       Autoplayed: user action: Unspecified;    \n",
       "3497                                          NaN   \n",
       "7116       Autoplayed: user action: Unspecified;    \n",
       "4952  Autoplayed: user action: User_Interaction;    \n",
       "8944       Autoplayed: user action: Unspecified;    \n",
       "5085                                          NaN   \n",
       "7386              Autoplayed: user action: None;    \n",
       "\n",
       "                                                  Title  \\\n",
       "8101            Narcos: Staffel 2: Cambalache (Folge 2)   \n",
       "7750                               John Wick: Kapitel 2   \n",
       "8441  The Blacklist: Staffel 5: Mr. Raleigh Sinclair...   \n",
       "6404  DreamWorks Dragons: Auf zu neuen Ufern: Staffe...   \n",
       "3497  The Big Bang Theory: Staffel 10: Die Schweige-...   \n",
       "7116  Dino-Zug: Staffel 1: Unter der Erde / Shinys M...   \n",
       "4952  Pokémon: Staffel 1: Die Herausforderung (Folge 4)   \n",
       "8944          Arrow: Staffel 2: Riesenkräfte (Folge 12)   \n",
       "5085  Pokémon – Die TV-Serie: Sonne und Mond: Sonne ...   \n",
       "7386                             Staffel 1 (Clip): Kleo   \n",
       "\n",
       "     Supplemental Video Type                               Device Type  \\\n",
       "8101                     NaN    Samsung CE 2019 Muse-L UHD TV Smart TV   \n",
       "7750                     NaN    Samsung CE 2019 Muse-L UHD TV Smart TV   \n",
       "8441                     NaN    Samsung CE 2019 Muse-L UHD TV Smart TV   \n",
       "6404                     NaN        Sony Sony Android TV 2015 Smart TV   \n",
       "3497                     NaN                                        PC   \n",
       "7116                     NaN        Sony Sony Android TV 2015 Smart TV   \n",
       "4952                     NaN  Sony CE Sony Android TV 2020 M5 Smart TV   \n",
       "8944                     NaN                                  Sony PS4   \n",
       "5085                     NaN  Sony CE Sony Android TV 2020 M5 Smart TV   \n",
       "7386                    HOOK  Sony CE Sony Android TV 2020 M5 Smart TV   \n",
       "\n",
       "      Bookmark  Latest Bookmark       Country  \n",
       "8101  00:11:17  Not latest view  DE (Germany)  \n",
       "7750  01:40:55  Not latest view  DE (Germany)  \n",
       "8441  00:42:31         00:42:31  DE (Germany)  \n",
       "6404  00:22:30         00:22:30  DE (Germany)  \n",
       "3497  00:08:34  Not latest view  DE (Germany)  \n",
       "7116  00:28:09  Not latest view  DE (Germany)  \n",
       "4952  00:00:56  Not latest view  DE (Germany)  \n",
       "8944  00:40:40         00:40:40  DE (Germany)  \n",
       "5085  00:20:46         00:20:46  DE (Germany)  \n",
       "7386  00:01:05         00:01:05  DE (Germany)  "
      ]
     },
     "execution_count": 4,
     "metadata": {},
     "output_type": "execute_result"
    }
   ],
   "source": [
    "df.sample(n=10)"
   ]
  },
  {
   "cell_type": "code",
   "execution_count": 5,
   "id": "e7206874",
   "metadata": {},
   "outputs": [
    {
     "data": {
      "text/plain": [
       "array(['Mom & Dad', 'Friends', 'Code & Dogs', 'Kids', 'Brother & Wife'],\n",
       "      dtype=object)"
      ]
     },
     "execution_count": 5,
     "metadata": {},
     "output_type": "execute_result"
    }
   ],
   "source": [
    "df[\"Profile Name\"].unique()"
   ]
  },
  {
   "cell_type": "code",
   "execution_count": 6,
   "id": "ac26cc9e",
   "metadata": {},
   "outputs": [
    {
     "data": {
      "text/plain": [
       "array(['Samsung CE 2020 Nike-L UHD TV Smart TV', 'FireTV 4K Stick 2018',\n",
       "       'DefaultWidevineAndroidTablets',\n",
       "       'Apple iPad Pro 12.9 in 5th Gen (Wi-Fi/Cell) iPad',\n",
       "       'Sony CE Sony Android TV 2020 M5 Smart TV', 'Chrome PC (Cadmium)',\n",
       "       'Panasonic 2017 MT5811 FRCTcon TV Smart TV', 'FireTV Stick 2016',\n",
       "       'Edge OSS - Windows (Cadmium)',\n",
       "       'Android DefaultWidevineL3Tablet Android Tablet',\n",
       "       'Panasonic DTV 2019 MT5813 OLED Atmos200 Smart TV',\n",
       "       'Sky UK skyamidalade MVPD STB', 'Sky UK IP100 MVPD STB',\n",
       "       'Sony Sony Android TV 2018 M2 4K Smart TV', 'Firefox PC (Cadmium)',\n",
       "       'DefaultWidevineAndroidPhone', 'FireTV Stick 2014',\n",
       "       'Amazon Fire TV Stick 2020 Lite Streaming Stick',\n",
       "       'Samsung 2013 MStar X12 Smart TV', 'PC',\n",
       "       'Internet Explorer (Cadmium)', 'Edge (Cadmium)',\n",
       "       'Samsung CE 2019 Muse-L UHD TV Smart TV',\n",
       "       'Sony Sony Android TV 2015 Smart TV', 'Sony PS4',\n",
       "       'TPV PHTV19AMT0  Smart TV',\n",
       "       'Panasonic DTV ST50/UT50/XT50/DT50/ET50/ET5/E50/E5',\n",
       "       'Sony 2012 Blu-ray Players'], dtype=object)"
      ]
     },
     "execution_count": 6,
     "metadata": {},
     "output_type": "execute_result"
    }
   ],
   "source": [
    "df[\"Device Type\"].unique()"
   ]
  },
  {
   "cell_type": "code",
   "execution_count": 7,
   "id": "a32bbe7c",
   "metadata": {},
   "outputs": [
    {
     "data": {
      "text/plain": [
       "Profile Name               object\n",
       "Start Time                 object\n",
       "Duration                   object\n",
       "Attributes                 object\n",
       "Title                      object\n",
       "Supplemental Video Type    object\n",
       "Device Type                object\n",
       "Bookmark                   object\n",
       "Latest Bookmark            object\n",
       "Country                    object\n",
       "dtype: object"
      ]
     },
     "execution_count": 7,
     "metadata": {},
     "output_type": "execute_result"
    }
   ],
   "source": [
    "df.dtypes"
   ]
  },
  {
   "cell_type": "code",
   "execution_count": 8,
   "id": "5a987033",
   "metadata": {},
   "outputs": [
    {
     "data": {
      "text/plain": [
       "Profile Name                            object\n",
       "Start Time                 datetime64[ns, UTC]\n",
       "Duration                       timedelta64[ns]\n",
       "Attributes                              object\n",
       "Title                                   object\n",
       "Supplemental Video Type                 object\n",
       "Device Type                             object\n",
       "Bookmark                                object\n",
       "Latest Bookmark                         object\n",
       "Country                                 object\n",
       "dtype: object"
      ]
     },
     "execution_count": 8,
     "metadata": {},
     "output_type": "execute_result"
    }
   ],
   "source": [
    "df['Start Time'] = pd.to_datetime(df['Start Time'], utc=True)\n",
    "df['Duration'] = pd.to_timedelta(df['Duration'])\n",
    "df.dtypes"
   ]
  },
  {
   "cell_type": "code",
   "execution_count": 9,
   "id": "b760f08e",
   "metadata": {},
   "outputs": [
    {
     "data": {
      "text/html": [
       "<div>\n",
       "<style scoped>\n",
       "    .dataframe tbody tr th:only-of-type {\n",
       "        vertical-align: middle;\n",
       "    }\n",
       "\n",
       "    .dataframe tbody tr th {\n",
       "        vertical-align: top;\n",
       "    }\n",
       "\n",
       "    .dataframe thead th {\n",
       "        text-align: right;\n",
       "    }\n",
       "</style>\n",
       "<table border=\"1\" class=\"dataframe\">\n",
       "  <thead>\n",
       "    <tr style=\"text-align: right;\">\n",
       "      <th></th>\n",
       "      <th>Profile Name</th>\n",
       "      <th>Start Time</th>\n",
       "      <th>Duration</th>\n",
       "      <th>Attributes</th>\n",
       "      <th>Title</th>\n",
       "      <th>Supplemental Video Type</th>\n",
       "      <th>Device Type</th>\n",
       "      <th>Bookmark</th>\n",
       "      <th>Latest Bookmark</th>\n",
       "      <th>Country</th>\n",
       "    </tr>\n",
       "  </thead>\n",
       "  <tbody>\n",
       "    <tr>\n",
       "      <th>6557</th>\n",
       "      <td>Kids</td>\n",
       "      <td>2020-11-17 17:14:38+00:00</td>\n",
       "      <td>0 days 00:24:25</td>\n",
       "      <td>Autoplayed: user action: Unspecified;</td>\n",
       "      <td>Dino-Zug: Staffel 1: Die Unterwasserwelt / Die...</td>\n",
       "      <td>NaN</td>\n",
       "      <td>Sony Sony Android TV 2015 Smart TV</td>\n",
       "      <td>00:28:16</td>\n",
       "      <td>Not latest view</td>\n",
       "      <td>DE (Germany)</td>\n",
       "    </tr>\n",
       "    <tr>\n",
       "      <th>2712</th>\n",
       "      <td>Code &amp; Dogs</td>\n",
       "      <td>2020-11-06 19:41:48+00:00</td>\n",
       "      <td>0 days 01:17:35</td>\n",
       "      <td>NaN</td>\n",
       "      <td>Die Unfassbaren 2</td>\n",
       "      <td>NaN</td>\n",
       "      <td>Chrome PC (Cadmium)</td>\n",
       "      <td>01:17:35</td>\n",
       "      <td>01:17:35</td>\n",
       "      <td>DE (Germany)</td>\n",
       "    </tr>\n",
       "    <tr>\n",
       "      <th>4003</th>\n",
       "      <td>Code &amp; Dogs</td>\n",
       "      <td>2018-07-08 08:39:21+00:00</td>\n",
       "      <td>0 days 00:42:48</td>\n",
       "      <td>Autoplayed: user action: User_Interaction;</td>\n",
       "      <td>Haus des Geldes: Teil 1: Folge 12 (Folge 12)</td>\n",
       "      <td>NaN</td>\n",
       "      <td>Internet Explorer (Cadmium)</td>\n",
       "      <td>00:42:52</td>\n",
       "      <td>00:42:52</td>\n",
       "      <td>DE (Germany)</td>\n",
       "    </tr>\n",
       "    <tr>\n",
       "      <th>4148</th>\n",
       "      <td>Code &amp; Dogs</td>\n",
       "      <td>2018-03-21 15:04:36+00:00</td>\n",
       "      <td>0 days 00:19:29</td>\n",
       "      <td>NaN</td>\n",
       "      <td>The Big Bang Theory: Staffel 10: Die Whirlpool...</td>\n",
       "      <td>NaN</td>\n",
       "      <td>Internet Explorer (Cadmium)</td>\n",
       "      <td>00:19:29</td>\n",
       "      <td>Not latest view</td>\n",
       "      <td>DE (Germany)</td>\n",
       "    </tr>\n",
       "    <tr>\n",
       "      <th>8622</th>\n",
       "      <td>Brother &amp; Wife</td>\n",
       "      <td>2020-05-14 17:05:52+00:00</td>\n",
       "      <td>0 days 00:00:01</td>\n",
       "      <td>Autoplayed: user action: None;</td>\n",
       "      <td>Supergirl: Staffel 1: Geburt einer Heldin (Fol...</td>\n",
       "      <td>NaN</td>\n",
       "      <td>Samsung CE 2019 Muse-L UHD TV Smart TV</td>\n",
       "      <td>00:00:01</td>\n",
       "      <td>Not latest view</td>\n",
       "      <td>DE (Germany)</td>\n",
       "    </tr>\n",
       "    <tr>\n",
       "      <th>3295</th>\n",
       "      <td>Code &amp; Dogs</td>\n",
       "      <td>2020-03-30 12:33:18+00:00</td>\n",
       "      <td>0 days 00:23:01</td>\n",
       "      <td>NaN</td>\n",
       "      <td>Modern Family: Staffel 6: Lust und Launen (Fol...</td>\n",
       "      <td>NaN</td>\n",
       "      <td>Chrome PC (Cadmium)</td>\n",
       "      <td>00:21:43</td>\n",
       "      <td>Not latest view</td>\n",
       "      <td>DE (Germany)</td>\n",
       "    </tr>\n",
       "    <tr>\n",
       "      <th>5056</th>\n",
       "      <td>Kids</td>\n",
       "      <td>2021-12-23 14:42:34+00:00</td>\n",
       "      <td>0 days 00:12:04</td>\n",
       "      <td>NaN</td>\n",
       "      <td>Jurassic World: Neue Abenteuer: Staffel 2: Die...</td>\n",
       "      <td>NaN</td>\n",
       "      <td>Sony CE Sony Android TV 2020 M5 Smart TV</td>\n",
       "      <td>00:12:50</td>\n",
       "      <td>Not latest view</td>\n",
       "      <td>DE (Germany)</td>\n",
       "    </tr>\n",
       "    <tr>\n",
       "      <th>8278</th>\n",
       "      <td>Brother &amp; Wife</td>\n",
       "      <td>2020-11-13 21:02:35+00:00</td>\n",
       "      <td>0 days 00:54:28</td>\n",
       "      <td>Autoplayed: user action: Unspecified;</td>\n",
       "      <td>Orange Is the New Black: Staffel 1: Süße Verlo...</td>\n",
       "      <td>NaN</td>\n",
       "      <td>Sony Sony Android TV 2015 Smart TV</td>\n",
       "      <td>00:55:47</td>\n",
       "      <td>00:55:47</td>\n",
       "      <td>DE (Germany)</td>\n",
       "    </tr>\n",
       "    <tr>\n",
       "      <th>7986</th>\n",
       "      <td>Brother &amp; Wife</td>\n",
       "      <td>2021-08-21 17:28:40+00:00</td>\n",
       "      <td>0 days 00:00:25</td>\n",
       "      <td>Autoplayed: user action: None;</td>\n",
       "      <td>Trailer: 6 Underground</td>\n",
       "      <td>TRAILER</td>\n",
       "      <td>Sony CE Sony Android TV 2020 M5 Smart TV</td>\n",
       "      <td>00:00:25</td>\n",
       "      <td>00:00:25</td>\n",
       "      <td>DE (Germany)</td>\n",
       "    </tr>\n",
       "    <tr>\n",
       "      <th>5747</th>\n",
       "      <td>Kids</td>\n",
       "      <td>2021-07-13 16:18:41+00:00</td>\n",
       "      <td>0 days 00:21:14</td>\n",
       "      <td>NaN</td>\n",
       "      <td>Ninjago: Garmadons Motorrad-Gang: Jake Jaguar ...</td>\n",
       "      <td>NaN</td>\n",
       "      <td>Sony Sony Android TV 2015 Smart TV</td>\n",
       "      <td>00:21:50</td>\n",
       "      <td>Not latest view</td>\n",
       "      <td>DE (Germany)</td>\n",
       "    </tr>\n",
       "  </tbody>\n",
       "</table>\n",
       "</div>"
      ],
      "text/plain": [
       "        Profile Name                Start Time        Duration  \\\n",
       "6557            Kids 2020-11-17 17:14:38+00:00 0 days 00:24:25   \n",
       "2712     Code & Dogs 2020-11-06 19:41:48+00:00 0 days 01:17:35   \n",
       "4003     Code & Dogs 2018-07-08 08:39:21+00:00 0 days 00:42:48   \n",
       "4148     Code & Dogs 2018-03-21 15:04:36+00:00 0 days 00:19:29   \n",
       "8622  Brother & Wife 2020-05-14 17:05:52+00:00 0 days 00:00:01   \n",
       "3295     Code & Dogs 2020-03-30 12:33:18+00:00 0 days 00:23:01   \n",
       "5056            Kids 2021-12-23 14:42:34+00:00 0 days 00:12:04   \n",
       "8278  Brother & Wife 2020-11-13 21:02:35+00:00 0 days 00:54:28   \n",
       "7986  Brother & Wife 2021-08-21 17:28:40+00:00 0 days 00:00:25   \n",
       "5747            Kids 2021-07-13 16:18:41+00:00 0 days 00:21:14   \n",
       "\n",
       "                                       Attributes  \\\n",
       "6557       Autoplayed: user action: Unspecified;    \n",
       "2712                                          NaN   \n",
       "4003  Autoplayed: user action: User_Interaction;    \n",
       "4148                                          NaN   \n",
       "8622              Autoplayed: user action: None;    \n",
       "3295                                          NaN   \n",
       "5056                                          NaN   \n",
       "8278       Autoplayed: user action: Unspecified;    \n",
       "7986              Autoplayed: user action: None;    \n",
       "5747                                          NaN   \n",
       "\n",
       "                                                  Title  \\\n",
       "6557  Dino-Zug: Staffel 1: Die Unterwasserwelt / Die...   \n",
       "2712                                  Die Unfassbaren 2   \n",
       "4003       Haus des Geldes: Teil 1: Folge 12 (Folge 12)   \n",
       "4148  The Big Bang Theory: Staffel 10: Die Whirlpool...   \n",
       "8622  Supergirl: Staffel 1: Geburt einer Heldin (Fol...   \n",
       "3295  Modern Family: Staffel 6: Lust und Launen (Fol...   \n",
       "5056  Jurassic World: Neue Abenteuer: Staffel 2: Die...   \n",
       "8278  Orange Is the New Black: Staffel 1: Süße Verlo...   \n",
       "7986                             Trailer: 6 Underground   \n",
       "5747  Ninjago: Garmadons Motorrad-Gang: Jake Jaguar ...   \n",
       "\n",
       "     Supplemental Video Type                               Device Type  \\\n",
       "6557                     NaN        Sony Sony Android TV 2015 Smart TV   \n",
       "2712                     NaN                       Chrome PC (Cadmium)   \n",
       "4003                     NaN               Internet Explorer (Cadmium)   \n",
       "4148                     NaN               Internet Explorer (Cadmium)   \n",
       "8622                     NaN    Samsung CE 2019 Muse-L UHD TV Smart TV   \n",
       "3295                     NaN                       Chrome PC (Cadmium)   \n",
       "5056                     NaN  Sony CE Sony Android TV 2020 M5 Smart TV   \n",
       "8278                     NaN        Sony Sony Android TV 2015 Smart TV   \n",
       "7986                 TRAILER  Sony CE Sony Android TV 2020 M5 Smart TV   \n",
       "5747                     NaN        Sony Sony Android TV 2015 Smart TV   \n",
       "\n",
       "      Bookmark  Latest Bookmark       Country  \n",
       "6557  00:28:16  Not latest view  DE (Germany)  \n",
       "2712  01:17:35         01:17:35  DE (Germany)  \n",
       "4003  00:42:52         00:42:52  DE (Germany)  \n",
       "4148  00:19:29  Not latest view  DE (Germany)  \n",
       "8622  00:00:01  Not latest view  DE (Germany)  \n",
       "3295  00:21:43  Not latest view  DE (Germany)  \n",
       "5056  00:12:50  Not latest view  DE (Germany)  \n",
       "8278  00:55:47         00:55:47  DE (Germany)  \n",
       "7986  00:00:25         00:00:25  DE (Germany)  \n",
       "5747  00:21:50  Not latest view  DE (Germany)  "
      ]
     },
     "execution_count": 9,
     "metadata": {},
     "output_type": "execute_result"
    }
   ],
   "source": [
    "df.sample(n=10)"
   ]
  },
  {
   "cell_type": "code",
   "execution_count": 10,
   "id": "1d425e28",
   "metadata": {},
   "outputs": [
    {
     "data": {
      "text/plain": [
       "Code & Dogs       2881\n",
       "Kids              2754\n",
       "Brother & Wife    2057\n",
       "Mom & Dad         1559\n",
       "Friends             22\n",
       "Name: Profile Name, dtype: int64"
      ]
     },
     "execution_count": 10,
     "metadata": {},
     "output_type": "execute_result"
    }
   ],
   "source": [
    "df['Profile Name'].value_counts()"
   ]
  },
  {
   "cell_type": "code",
   "execution_count": 11,
   "id": "5d152ba6",
   "metadata": {},
   "outputs": [
    {
     "data": {
      "image/png": "[encoded data removed]",
      "text/plain": [
       "<Figure size 640x480 with 1 Axes>"
      ]
     },
     "metadata": {},
     "output_type": "display_data"
    }
   ],
   "source": [
    "%matplotlib inline\n",
    "import matplotlib\n",
    "import matplotlib.pyplot as plt\n",
    "df['Profile Name'].value_counts().plot(kind='bar')\n",
    "plt.show()"
   ]
  },
  {
   "cell_type": "code",
   "execution_count": 12,
   "id": "362b6224",
   "metadata": {},
   "outputs": [
    {
     "data": {
      "text/plain": [
       "Timedelta('124 days 00:57:25')"
      ]
     },
     "execution_count": 12,
     "metadata": {},
     "output_type": "execute_result"
    }
   ],
   "source": [
    "df['Duration'].sum()"
   ]
  },
  {
   "cell_type": "code",
   "execution_count": 13,
   "id": "5ecc0d6c",
   "metadata": {},
   "outputs": [
    {
     "data": {
      "text/html": [
       "<div>\n",
       "<style scoped>\n",
       "    .dataframe tbody tr th:only-of-type {\n",
       "        vertical-align: middle;\n",
       "    }\n",
       "\n",
       "    .dataframe tbody tr th {\n",
       "        vertical-align: top;\n",
       "    }\n",
       "\n",
       "    .dataframe thead th {\n",
       "        text-align: right;\n",
       "    }\n",
       "</style>\n",
       "<table border=\"1\" class=\"dataframe\">\n",
       "  <thead>\n",
       "    <tr style=\"text-align: right;\">\n",
       "      <th></th>\n",
       "      <th>Profile Name</th>\n",
       "      <th>Start Time</th>\n",
       "      <th>Duration</th>\n",
       "      <th>Attributes</th>\n",
       "      <th>Title</th>\n",
       "      <th>Supplemental Video Type</th>\n",
       "      <th>Device Type</th>\n",
       "      <th>Bookmark</th>\n",
       "      <th>Latest Bookmark</th>\n",
       "      <th>Country</th>\n",
       "    </tr>\n",
       "  </thead>\n",
       "  <tbody>\n",
       "    <tr>\n",
       "      <th>4461</th>\n",
       "      <td>Code &amp; Dogs</td>\n",
       "      <td>2017-05-25 20:13:40+00:00</td>\n",
       "      <td>0 days 00:54:39</td>\n",
       "      <td>NaN</td>\n",
       "      <td>Männer, die auf Ziegen starren</td>\n",
       "      <td>NaN</td>\n",
       "      <td>Chrome PC (Cadmium)</td>\n",
       "      <td>00:54:39</td>\n",
       "      <td>00:54:39</td>\n",
       "      <td>DE (Germany)</td>\n",
       "    </tr>\n",
       "    <tr>\n",
       "      <th>4460</th>\n",
       "      <td>Code &amp; Dogs</td>\n",
       "      <td>2017-05-28 18:53:57+00:00</td>\n",
       "      <td>0 days 01:36:40</td>\n",
       "      <td>NaN</td>\n",
       "      <td>Der Knastcoach</td>\n",
       "      <td>NaN</td>\n",
       "      <td>Chrome PC (Cadmium)</td>\n",
       "      <td>01:36:40</td>\n",
       "      <td>01:36:40</td>\n",
       "      <td>DE (Germany)</td>\n",
       "    </tr>\n",
       "    <tr>\n",
       "      <th>4459</th>\n",
       "      <td>Code &amp; Dogs</td>\n",
       "      <td>2017-06-08 19:23:28+00:00</td>\n",
       "      <td>0 days 00:56:14</td>\n",
       "      <td>NaN</td>\n",
       "      <td>Narcos: Staffel 1: Descenso (Folge 1)</td>\n",
       "      <td>NaN</td>\n",
       "      <td>Internet Explorer (Cadmium)</td>\n",
       "      <td>00:56:14</td>\n",
       "      <td>Not latest view</td>\n",
       "      <td>DE (Germany)</td>\n",
       "    </tr>\n",
       "    <tr>\n",
       "      <th>4458</th>\n",
       "      <td>Code &amp; Dogs</td>\n",
       "      <td>2017-06-08 20:23:24+00:00</td>\n",
       "      <td>0 days 00:45:10</td>\n",
       "      <td>Autoplayed: user action: None;</td>\n",
       "      <td>Narcos: Staffel 1: Das Schwert von Simón Bolív...</td>\n",
       "      <td>NaN</td>\n",
       "      <td>Internet Explorer (Cadmium)</td>\n",
       "      <td>00:45:10</td>\n",
       "      <td>00:45:10</td>\n",
       "      <td>DE (Germany)</td>\n",
       "    </tr>\n",
       "    <tr>\n",
       "      <th>4457</th>\n",
       "      <td>Code &amp; Dogs</td>\n",
       "      <td>2017-06-09 18:46:01+00:00</td>\n",
       "      <td>0 days 01:50:35</td>\n",
       "      <td>NaN</td>\n",
       "      <td>Ant-Man</td>\n",
       "      <td>NaN</td>\n",
       "      <td>Edge (Cadmium)</td>\n",
       "      <td>01:50:35</td>\n",
       "      <td>Not latest view</td>\n",
       "      <td>DE (Germany)</td>\n",
       "    </tr>\n",
       "    <tr>\n",
       "      <th>...</th>\n",
       "      <td>...</td>\n",
       "      <td>...</td>\n",
       "      <td>...</td>\n",
       "      <td>...</td>\n",
       "      <td>...</td>\n",
       "      <td>...</td>\n",
       "      <td>...</td>\n",
       "      <td>...</td>\n",
       "      <td>...</td>\n",
       "      <td>...</td>\n",
       "    </tr>\n",
       "    <tr>\n",
       "      <th>7219</th>\n",
       "      <td>Brother &amp; Wife</td>\n",
       "      <td>2022-09-28 08:08:53+00:00</td>\n",
       "      <td>0 days 00:00:23</td>\n",
       "      <td>Autoplayed: user action: None;</td>\n",
       "      <td>Jackass 4.5_hook_04_16x9</td>\n",
       "      <td>HOOK</td>\n",
       "      <td>Samsung CE 2019 Muse-L UHD TV Smart TV</td>\n",
       "      <td>00:00:23</td>\n",
       "      <td>00:00:23</td>\n",
       "      <td>DE (Germany)</td>\n",
       "    </tr>\n",
       "    <tr>\n",
       "      <th>7218</th>\n",
       "      <td>Brother &amp; Wife</td>\n",
       "      <td>2022-09-28 08:11:29+00:00</td>\n",
       "      <td>0 days 00:37:57</td>\n",
       "      <td>Autoplayed: user action: User_Interaction;</td>\n",
       "      <td>Die Schlacht um die Schelde</td>\n",
       "      <td>NaN</td>\n",
       "      <td>Samsung CE 2019 Muse-L UHD TV Smart TV</td>\n",
       "      <td>00:37:58</td>\n",
       "      <td>Not latest view</td>\n",
       "      <td>DE (Germany)</td>\n",
       "    </tr>\n",
       "    <tr>\n",
       "      <th>7217</th>\n",
       "      <td>Brother &amp; Wife</td>\n",
       "      <td>2022-09-28 09:02:57+00:00</td>\n",
       "      <td>0 days 00:16:45</td>\n",
       "      <td>Autoplayed: user action: User_Interaction;</td>\n",
       "      <td>Die Schlacht um die Schelde</td>\n",
       "      <td>NaN</td>\n",
       "      <td>Sony CE Sony Android TV 2020 M5 Smart TV</td>\n",
       "      <td>00:54:43</td>\n",
       "      <td>Not latest view</td>\n",
       "      <td>DE (Germany)</td>\n",
       "    </tr>\n",
       "    <tr>\n",
       "      <th>7216</th>\n",
       "      <td>Brother &amp; Wife</td>\n",
       "      <td>2022-09-28 09:27:12+00:00</td>\n",
       "      <td>0 days 01:07:00</td>\n",
       "      <td>Autoplayed: user action: User_Interaction;</td>\n",
       "      <td>Die Schlacht um die Schelde</td>\n",
       "      <td>NaN</td>\n",
       "      <td>Samsung CE 2019 Muse-L UHD TV Smart TV</td>\n",
       "      <td>02:01:18</td>\n",
       "      <td>02:01:18</td>\n",
       "      <td>DE (Germany)</td>\n",
       "    </tr>\n",
       "    <tr>\n",
       "      <th>4462</th>\n",
       "      <td>Kids</td>\n",
       "      <td>2022-09-28 14:06:55+00:00</td>\n",
       "      <td>0 days 00:20:41</td>\n",
       "      <td>Autoplayed: user action: User_Interaction;</td>\n",
       "      <td>Jurassic World: Neue Abenteuer: Staffel 5: Wah...</td>\n",
       "      <td>NaN</td>\n",
       "      <td>Sony CE Sony Android TV 2020 M5 Smart TV</td>\n",
       "      <td>00:22:45</td>\n",
       "      <td>00:22:45</td>\n",
       "      <td>DE (Germany)</td>\n",
       "    </tr>\n",
       "  </tbody>\n",
       "</table>\n",
       "<p>9273 rows × 10 columns</p>\n",
       "</div>"
      ],
      "text/plain": [
       "        Profile Name                Start Time        Duration  \\\n",
       "4461     Code & Dogs 2017-05-25 20:13:40+00:00 0 days 00:54:39   \n",
       "4460     Code & Dogs 2017-05-28 18:53:57+00:00 0 days 01:36:40   \n",
       "4459     Code & Dogs 2017-06-08 19:23:28+00:00 0 days 00:56:14   \n",
       "4458     Code & Dogs 2017-06-08 20:23:24+00:00 0 days 00:45:10   \n",
       "4457     Code & Dogs 2017-06-09 18:46:01+00:00 0 days 01:50:35   \n",
       "...              ...                       ...             ...   \n",
       "7219  Brother & Wife 2022-09-28 08:08:53+00:00 0 days 00:00:23   \n",
       "7218  Brother & Wife 2022-09-28 08:11:29+00:00 0 days 00:37:57   \n",
       "7217  Brother & Wife 2022-09-28 09:02:57+00:00 0 days 00:16:45   \n",
       "7216  Brother & Wife 2022-09-28 09:27:12+00:00 0 days 01:07:00   \n",
       "4462            Kids 2022-09-28 14:06:55+00:00 0 days 00:20:41   \n",
       "\n",
       "                                       Attributes  \\\n",
       "4461                                          NaN   \n",
       "4460                                          NaN   \n",
       "4459                                          NaN   \n",
       "4458              Autoplayed: user action: None;    \n",
       "4457                                          NaN   \n",
       "...                                           ...   \n",
       "7219              Autoplayed: user action: None;    \n",
       "7218  Autoplayed: user action: User_Interaction;    \n",
       "7217  Autoplayed: user action: User_Interaction;    \n",
       "7216  Autoplayed: user action: User_Interaction;    \n",
       "4462  Autoplayed: user action: User_Interaction;    \n",
       "\n",
       "                                                  Title  \\\n",
       "4461                     Männer, die auf Ziegen starren   \n",
       "4460                                     Der Knastcoach   \n",
       "4459              Narcos: Staffel 1: Descenso (Folge 1)   \n",
       "4458  Narcos: Staffel 1: Das Schwert von Simón Bolív...   \n",
       "4457                                            Ant-Man   \n",
       "...                                                 ...   \n",
       "7219                           Jackass 4.5_hook_04_16x9   \n",
       "7218                        Die Schlacht um die Schelde   \n",
       "7217                        Die Schlacht um die Schelde   \n",
       "7216                        Die Schlacht um die Schelde   \n",
       "4462  Jurassic World: Neue Abenteuer: Staffel 5: Wah...   \n",
       "\n",
       "     Supplemental Video Type                               Device Type  \\\n",
       "4461                     NaN                       Chrome PC (Cadmium)   \n",
       "4460                     NaN                       Chrome PC (Cadmium)   \n",
       "4459                     NaN               Internet Explorer (Cadmium)   \n",
       "4458                     NaN               Internet Explorer (Cadmium)   \n",
       "4457                     NaN                            Edge (Cadmium)   \n",
       "...                      ...                                       ...   \n",
       "7219                    HOOK    Samsung CE 2019 Muse-L UHD TV Smart TV   \n",
       "7218                     NaN    Samsung CE 2019 Muse-L UHD TV Smart TV   \n",
       "7217                     NaN  Sony CE Sony Android TV 2020 M5 Smart TV   \n",
       "7216                     NaN    Samsung CE 2019 Muse-L UHD TV Smart TV   \n",
       "4462                     NaN  Sony CE Sony Android TV 2020 M5 Smart TV   \n",
       "\n",
       "      Bookmark  Latest Bookmark       Country  \n",
       "4461  00:54:39         00:54:39  DE (Germany)  \n",
       "4460  01:36:40         01:36:40  DE (Germany)  \n",
       "4459  00:56:14  Not latest view  DE (Germany)  \n",
       "4458  00:45:10         00:45:10  DE (Germany)  \n",
       "4457  01:50:35  Not latest view  DE (Germany)  \n",
       "...        ...              ...           ...  \n",
       "7219  00:00:23         00:00:23  DE (Germany)  \n",
       "7218  00:37:58  Not latest view  DE (Germany)  \n",
       "7217  00:54:43  Not latest view  DE (Germany)  \n",
       "7216  02:01:18         02:01:18  DE (Germany)  \n",
       "4462  00:22:45         00:22:45  DE (Germany)  \n",
       "\n",
       "[9273 rows x 10 columns]"
      ]
     },
     "execution_count": 13,
     "metadata": {},
     "output_type": "execute_result"
    }
   ],
   "source": [
    "df.sort_values('Start Time')"
   ]
  },
  {
   "cell_type": "code",
   "execution_count": 14,
   "id": "75383af2",
   "metadata": {},
   "outputs": [
    {
     "data": {
      "text/plain": [
       "Timedelta('47 days 21:26:40')"
      ]
     },
     "execution_count": 14,
     "metadata": {},
     "output_type": "execute_result"
    }
   ],
   "source": [
    "df.loc[df['Profile Name']=='Code & Dogs','Duration'].sum()"
   ]
  },
  {
   "cell_type": "code",
   "execution_count": 15,
   "id": "752dc5b3",
   "metadata": {},
   "outputs": [
    {
     "data": {
      "text/plain": [
       "Timedelta('16 days 08:06:13')"
      ]
     },
     "execution_count": 15,
     "metadata": {},
     "output_type": "execute_result"
    }
   ],
   "source": [
    "df.loc[df['Profile Name']=='Mom & Dad','Duration'].sum()"
   ]
  },
  {
   "cell_type": "code",
   "execution_count": 16,
   "id": "56520feb",
   "metadata": {},
   "outputs": [
    {
     "data": {
      "text/plain": [
       "Timedelta('23 days 17:28:45')"
      ]
     },
     "execution_count": 16,
     "metadata": {},
     "output_type": "execute_result"
    }
   ],
   "source": [
    "df.loc[df['Profile Name']=='Kids','Duration'].sum()"
   ]
  },
  {
   "cell_type": "code",
   "execution_count": 17,
   "id": "d1d385e6",
   "metadata": {},
   "outputs": [
    {
     "data": {
      "text/plain": [
       "Timedelta('35 days 14:52:05')"
      ]
     },
     "execution_count": 17,
     "metadata": {},
     "output_type": "execute_result"
    }
   ],
   "source": [
    "df.loc[df['Profile Name']=='Brother & Wife','Duration'].sum()"
   ]
  },
  {
   "cell_type": "code",
   "execution_count": 18,
   "id": "f7135b65",
   "metadata": {},
   "outputs": [
    {
     "data": {
      "text/plain": [
       "Timedelta('0 days 11:03:42')"
      ]
     },
     "execution_count": 18,
     "metadata": {},
     "output_type": "execute_result"
    }
   ],
   "source": [
    "df.loc[df['Profile Name']=='Friends','Duration'].sum()"
   ]
  },
  {
   "cell_type": "code",
   "execution_count": 19,
   "id": "99bb43a6",
   "metadata": {},
   "outputs": [
    {
     "data": {
      "text/plain": [
       "4138000.0"
      ]
     },
     "execution_count": 19,
     "metadata": {},
     "output_type": "execute_result"
    }
   ],
   "source": [
    "df.loc[df['Profile Name']=='Code & Dogs','Duration'].astype('timedelta64[s]').sum()"
   ]
  },
  {
   "cell_type": "code",
   "execution_count": 20,
   "id": "db2a0eb2",
   "metadata": {},
   "outputs": [
    {
     "data": {
      "text/plain": [
       "{'Code & Dogs': 4138000.0,\n",
       " 'Mom & Dad': 1411573.0,\n",
       " 'Kids': 2050125.0,\n",
       " 'Brother & Wife': 3077525.0,\n",
       " 'Friends': 39822.0}"
      ]
     },
     "execution_count": 20,
     "metadata": {},
     "output_type": "execute_result"
    }
   ],
   "source": [
    "viewTime = {}\n",
    "viewTime.update({\"Code & Dogs\": df.loc[df['Profile Name']=='Code & Dogs','Duration'].astype('timedelta64[s]').sum()})\n",
    "viewTime.update({\"Mom & Dad\": df.loc[df['Profile Name']=='Mom & Dad','Duration'].astype('timedelta64[s]').sum()})\n",
    "viewTime.update({\"Kids\": df.loc[df['Profile Name']=='Kids','Duration'].astype('timedelta64[s]').sum()})\n",
    "viewTime.update({\"Brother & Wife\": df.loc[df['Profile Name']=='Brother & Wife','Duration'].astype('timedelta64[s]').sum()})\n",
    "viewTime.update({\"Friends\": df.loc[df['Profile Name']=='Friends','Duration'].astype('timedelta64[s]').sum()})\n",
    "viewTime"
   ]
  },
  {
   "cell_type": "code",
   "execution_count": 21,
   "id": "7a116c3a",
   "metadata": {},
   "outputs": [
    {
     "data": {
      "image/png": "[encoded data removed]",
      "text/plain": [
       "<Figure size 640x480 with 1 Axes>"
      ]
     },
     "metadata": {},
     "output_type": "display_data"
    }
   ],
   "source": [
    "%matplotlib inline\n",
    "import matplotlib\n",
    "import matplotlib.pyplot as plt\n",
    "plt.bar(*zip(*viewTime.items()))\n",
    "plt.show()"
   ]
  },
  {
   "cell_type": "code",
   "execution_count": 22,
   "id": "bb5f8a70",
   "metadata": {},
   "outputs": [
    {
     "data": {
      "text/plain": [
       "Code & Dogs       2881\n",
       "Kids              2754\n",
       "Brother & Wife    2057\n",
       "Mom & Dad         1559\n",
       "Friends             22\n",
       "Name: Profile Name, dtype: int64"
      ]
     },
     "execution_count": 22,
     "metadata": {},
     "output_type": "execute_result"
    }
   ],
   "source": [
    "df['Profile Name'].value_counts()"
   ]
  },
  {
   "cell_type": "code",
   "execution_count": 23,
   "id": "220f6a0e",
   "metadata": {},
   "outputs": [
    {
     "data": {
      "text/plain": [
       "Timedelta('0 days 00:23:56.306837903')"
      ]
     },
     "execution_count": 23,
     "metadata": {},
     "output_type": "execute_result"
    }
   ],
   "source": [
    "df.loc[df['Profile Name']=='Code & Dogs','Duration'].sum()/2881"
   ]
  },
  {
   "cell_type": "code",
   "execution_count": 24,
   "id": "b23af7fb",
   "metadata": {},
   "outputs": [
    {
     "data": {
      "text/plain": [
       "Timedelta('0 days 00:12:24.417211328')"
      ]
     },
     "execution_count": 24,
     "metadata": {},
     "output_type": "execute_result"
    }
   ],
   "source": [
    "df.loc[df['Profile Name']=='Kids','Duration'].sum()/2754"
   ]
  },
  {
   "cell_type": "code",
   "execution_count": 25,
   "id": "f4138f96",
   "metadata": {},
   "outputs": [
    {
     "data": {
      "text/plain": [
       "Timedelta('0 days 00:24:56.122994652')"
      ]
     },
     "execution_count": 25,
     "metadata": {},
     "output_type": "execute_result"
    }
   ],
   "source": [
    "df.loc[df['Profile Name']=='Brother & Wife','Duration'].sum()/2057"
   ]
  },
  {
   "cell_type": "code",
   "execution_count": 26,
   "id": "7c1c1dfb",
   "metadata": {},
   "outputs": [
    {
     "data": {
      "text/plain": [
       "Timedelta('0 days 00:15:05.434894162')"
      ]
     },
     "execution_count": 26,
     "metadata": {},
     "output_type": "execute_result"
    }
   ],
   "source": [
    "df.loc[df['Profile Name']=='Mom & Dad','Duration'].sum()/1559"
   ]
  },
  {
   "cell_type": "code",
   "execution_count": 27,
   "id": "46c462c9",
   "metadata": {},
   "outputs": [
    {
     "data": {
      "text/plain": [
       "Timedelta('0 days 00:30:10.090909090')"
      ]
     },
     "execution_count": 27,
     "metadata": {},
     "output_type": "execute_result"
    }
   ],
   "source": [
    "df.loc[df['Profile Name']=='Friends','Duration'].sum()/22"
   ]
  },
  {
   "cell_type": "code",
   "execution_count": 28,
   "id": "fb346018",
   "metadata": {},
   "outputs": [
    {
     "data": {
      "text/plain": [
       "HOOK              886\n",
       "TRAILER           367\n",
       "TEASER_TRAILER     74\n",
       "RECAP              10\n",
       "PROMOTIONAL         5\n",
       "BUMPER              1\n",
       "Name: Supplemental Video Type, dtype: int64"
      ]
     },
     "execution_count": 28,
     "metadata": {},
     "output_type": "execute_result"
    }
   ],
   "source": [
    "df['Supplemental Video Type'].value_counts()"
   ]
  },
  {
   "cell_type": "code",
   "execution_count": 29,
   "id": "4574012c",
   "metadata": {},
   "outputs": [
    {
     "data": {
      "text/html": [
       "<div>\n",
       "<style scoped>\n",
       "    .dataframe tbody tr th:only-of-type {\n",
       "        vertical-align: middle;\n",
       "    }\n",
       "\n",
       "    .dataframe tbody tr th {\n",
       "        vertical-align: top;\n",
       "    }\n",
       "\n",
       "    .dataframe thead th {\n",
       "        text-align: right;\n",
       "    }\n",
       "</style>\n",
       "<table border=\"1\" class=\"dataframe\">\n",
       "  <thead>\n",
       "    <tr style=\"text-align: right;\">\n",
       "      <th></th>\n",
       "      <th>Profile Name</th>\n",
       "      <th>Start Time</th>\n",
       "      <th>Duration</th>\n",
       "      <th>Attributes</th>\n",
       "      <th>Title</th>\n",
       "      <th>Supplemental Video Type</th>\n",
       "      <th>Device Type</th>\n",
       "      <th>Bookmark</th>\n",
       "      <th>Latest Bookmark</th>\n",
       "      <th>Country</th>\n",
       "    </tr>\n",
       "  </thead>\n",
       "  <tbody>\n",
       "    <tr>\n",
       "      <th>1</th>\n",
       "      <td>Mom &amp; Dad</td>\n",
       "      <td>2022-09-27 19:00:02+00:00</td>\n",
       "      <td>0 days 02:09:10</td>\n",
       "      <td>Autoplayed: user action: User_Interaction;</td>\n",
       "      <td>A Beautiful Mind – Genie und Wahnsinn</td>\n",
       "      <td>NaN</td>\n",
       "      <td>Samsung CE 2020 Nike-L UHD TV Smart TV</td>\n",
       "      <td>02:09:11</td>\n",
       "      <td>02:09:11</td>\n",
       "      <td>DE (Germany)</td>\n",
       "    </tr>\n",
       "    <tr>\n",
       "      <th>3</th>\n",
       "      <td>Mom &amp; Dad</td>\n",
       "      <td>2022-09-26 18:35:22+00:00</td>\n",
       "      <td>0 days 01:41:17</td>\n",
       "      <td>NaN</td>\n",
       "      <td>Lou</td>\n",
       "      <td>NaN</td>\n",
       "      <td>Samsung CE 2020 Nike-L UHD TV Smart TV</td>\n",
       "      <td>01:41:19</td>\n",
       "      <td>01:41:19</td>\n",
       "      <td>DE (Germany)</td>\n",
       "    </tr>\n",
       "    <tr>\n",
       "      <th>12</th>\n",
       "      <td>Mom &amp; Dad</td>\n",
       "      <td>2022-09-26 17:31:38+00:00</td>\n",
       "      <td>0 days 00:00:01</td>\n",
       "      <td>Autoplayed: user action: None;</td>\n",
       "      <td>Mucize – Wunder</td>\n",
       "      <td>NaN</td>\n",
       "      <td>FireTV 4K Stick 2018</td>\n",
       "      <td>00:00:01</td>\n",
       "      <td>00:00:01</td>\n",
       "      <td>DE (Germany)</td>\n",
       "    </tr>\n",
       "    <tr>\n",
       "      <th>17</th>\n",
       "      <td>Mom &amp; Dad</td>\n",
       "      <td>2022-09-26 17:30:12+00:00</td>\n",
       "      <td>0 days 00:00:02</td>\n",
       "      <td>Autoplayed: user action: None;</td>\n",
       "      <td>Das perfekte Verbrechen</td>\n",
       "      <td>NaN</td>\n",
       "      <td>FireTV 4K Stick 2018</td>\n",
       "      <td>00:00:02</td>\n",
       "      <td>00:00:02</td>\n",
       "      <td>DE (Germany)</td>\n",
       "    </tr>\n",
       "    <tr>\n",
       "      <th>26</th>\n",
       "      <td>Mom &amp; Dad</td>\n",
       "      <td>2022-09-26 17:26:29+00:00</td>\n",
       "      <td>0 days 00:00:03</td>\n",
       "      <td>Autoplayed: user action: None;</td>\n",
       "      <td>Wie Brüder im Wind</td>\n",
       "      <td>NaN</td>\n",
       "      <td>FireTV 4K Stick 2018</td>\n",
       "      <td>00:00:03</td>\n",
       "      <td>00:00:03</td>\n",
       "      <td>DE (Germany)</td>\n",
       "    </tr>\n",
       "    <tr>\n",
       "      <th>...</th>\n",
       "      <td>...</td>\n",
       "      <td>...</td>\n",
       "      <td>...</td>\n",
       "      <td>...</td>\n",
       "      <td>...</td>\n",
       "      <td>...</td>\n",
       "      <td>...</td>\n",
       "      <td>...</td>\n",
       "      <td>...</td>\n",
       "      <td>...</td>\n",
       "    </tr>\n",
       "    <tr>\n",
       "      <th>9268</th>\n",
       "      <td>Brother &amp; Wife</td>\n",
       "      <td>2019-01-13 19:29:20+00:00</td>\n",
       "      <td>0 days 01:01:28</td>\n",
       "      <td>NaN</td>\n",
       "      <td>Mogli: Legende des Dschungels</td>\n",
       "      <td>NaN</td>\n",
       "      <td>Sony 2012 Blu-ray Players</td>\n",
       "      <td>01:01:28</td>\n",
       "      <td>Not latest view</td>\n",
       "      <td>DE (Germany)</td>\n",
       "    </tr>\n",
       "    <tr>\n",
       "      <th>9269</th>\n",
       "      <td>Brother &amp; Wife</td>\n",
       "      <td>2019-01-11 12:08:05+00:00</td>\n",
       "      <td>0 days 01:38:21</td>\n",
       "      <td>NaN</td>\n",
       "      <td>Mogli: Legende des Dschungels</td>\n",
       "      <td>NaN</td>\n",
       "      <td>Firefox PC (Cadmium)</td>\n",
       "      <td>01:38:18</td>\n",
       "      <td>Not latest view</td>\n",
       "      <td>DE (Germany)</td>\n",
       "    </tr>\n",
       "    <tr>\n",
       "      <th>9270</th>\n",
       "      <td>Brother &amp; Wife</td>\n",
       "      <td>2019-01-11 12:05:49+00:00</td>\n",
       "      <td>0 days 00:00:02</td>\n",
       "      <td>Autoplayed: user action: Unspecified;</td>\n",
       "      <td>Riverdale: Staffel 1: Kapitel eins: „Das Fluss...</td>\n",
       "      <td>NaN</td>\n",
       "      <td>Firefox PC (Cadmium)</td>\n",
       "      <td>00:00:02</td>\n",
       "      <td>00:00:02</td>\n",
       "      <td>DE (Germany)</td>\n",
       "    </tr>\n",
       "    <tr>\n",
       "      <th>9271</th>\n",
       "      <td>Brother &amp; Wife</td>\n",
       "      <td>2019-01-11 12:05:39+00:00</td>\n",
       "      <td>0 days 00:00:02</td>\n",
       "      <td>NaN</td>\n",
       "      <td>Bright</td>\n",
       "      <td>NaN</td>\n",
       "      <td>Firefox PC (Cadmium)</td>\n",
       "      <td>00:00:02</td>\n",
       "      <td>Not latest view</td>\n",
       "      <td>DE (Germany)</td>\n",
       "    </tr>\n",
       "    <tr>\n",
       "      <th>9272</th>\n",
       "      <td>Brother &amp; Wife</td>\n",
       "      <td>2019-01-10 19:20:09+00:00</td>\n",
       "      <td>0 days 01:45:56</td>\n",
       "      <td>NaN</td>\n",
       "      <td>Wolfsnächte</td>\n",
       "      <td>NaN</td>\n",
       "      <td>Sony 2012 Blu-ray Players</td>\n",
       "      <td>01:59:06</td>\n",
       "      <td>01:59:06</td>\n",
       "      <td>DE (Germany)</td>\n",
       "    </tr>\n",
       "  </tbody>\n",
       "</table>\n",
       "<p>7930 rows × 10 columns</p>\n",
       "</div>"
      ],
      "text/plain": [
       "        Profile Name                Start Time        Duration  \\\n",
       "1          Mom & Dad 2022-09-27 19:00:02+00:00 0 days 02:09:10   \n",
       "3          Mom & Dad 2022-09-26 18:35:22+00:00 0 days 01:41:17   \n",
       "12         Mom & Dad 2022-09-26 17:31:38+00:00 0 days 00:00:01   \n",
       "17         Mom & Dad 2022-09-26 17:30:12+00:00 0 days 00:00:02   \n",
       "26         Mom & Dad 2022-09-26 17:26:29+00:00 0 days 00:00:03   \n",
       "...              ...                       ...             ...   \n",
       "9268  Brother & Wife 2019-01-13 19:29:20+00:00 0 days 01:01:28   \n",
       "9269  Brother & Wife 2019-01-11 12:08:05+00:00 0 days 01:38:21   \n",
       "9270  Brother & Wife 2019-01-11 12:05:49+00:00 0 days 00:00:02   \n",
       "9271  Brother & Wife 2019-01-11 12:05:39+00:00 0 days 00:00:02   \n",
       "9272  Brother & Wife 2019-01-10 19:20:09+00:00 0 days 01:45:56   \n",
       "\n",
       "                                       Attributes  \\\n",
       "1     Autoplayed: user action: User_Interaction;    \n",
       "3                                             NaN   \n",
       "12                Autoplayed: user action: None;    \n",
       "17                Autoplayed: user action: None;    \n",
       "26                Autoplayed: user action: None;    \n",
       "...                                           ...   \n",
       "9268                                          NaN   \n",
       "9269                                          NaN   \n",
       "9270       Autoplayed: user action: Unspecified;    \n",
       "9271                                          NaN   \n",
       "9272                                          NaN   \n",
       "\n",
       "                                                  Title  \\\n",
       "1                 A Beautiful Mind – Genie und Wahnsinn   \n",
       "3                                                   Lou   \n",
       "12                                      Mucize – Wunder   \n",
       "17                              Das perfekte Verbrechen   \n",
       "26                                   Wie Brüder im Wind   \n",
       "...                                                 ...   \n",
       "9268                      Mogli: Legende des Dschungels   \n",
       "9269                      Mogli: Legende des Dschungels   \n",
       "9270  Riverdale: Staffel 1: Kapitel eins: „Das Fluss...   \n",
       "9271                                             Bright   \n",
       "9272                                        Wolfsnächte   \n",
       "\n",
       "     Supplemental Video Type                             Device Type  \\\n",
       "1                        NaN  Samsung CE 2020 Nike-L UHD TV Smart TV   \n",
       "3                        NaN  Samsung CE 2020 Nike-L UHD TV Smart TV   \n",
       "12                       NaN                    FireTV 4K Stick 2018   \n",
       "17                       NaN                    FireTV 4K Stick 2018   \n",
       "26                       NaN                    FireTV 4K Stick 2018   \n",
       "...                      ...                                     ...   \n",
       "9268                     NaN               Sony 2012 Blu-ray Players   \n",
       "9269                     NaN                    Firefox PC (Cadmium)   \n",
       "9270                     NaN                    Firefox PC (Cadmium)   \n",
       "9271                     NaN                    Firefox PC (Cadmium)   \n",
       "9272                     NaN               Sony 2012 Blu-ray Players   \n",
       "\n",
       "      Bookmark  Latest Bookmark       Country  \n",
       "1     02:09:11         02:09:11  DE (Germany)  \n",
       "3     01:41:19         01:41:19  DE (Germany)  \n",
       "12    00:00:01         00:00:01  DE (Germany)  \n",
       "17    00:00:02         00:00:02  DE (Germany)  \n",
       "26    00:00:03         00:00:03  DE (Germany)  \n",
       "...        ...              ...           ...  \n",
       "9268  01:01:28  Not latest view  DE (Germany)  \n",
       "9269  01:38:18  Not latest view  DE (Germany)  \n",
       "9270  00:00:02         00:00:02  DE (Germany)  \n",
       "9271  00:00:02  Not latest view  DE (Germany)  \n",
       "9272  01:59:06         01:59:06  DE (Germany)  \n",
       "\n",
       "[7930 rows x 10 columns]"
      ]
     },
     "execution_count": 29,
     "metadata": {},
     "output_type": "execute_result"
    }
   ],
   "source": [
    "df.loc[df['Supplemental Video Type'].isnull()]"
   ]
  },
  {
   "cell_type": "code",
   "execution_count": 30,
   "id": "0dc54288",
   "metadata": {},
   "outputs": [
    {
     "data": {
      "text/plain": [
       "Code & Dogs       2881\n",
       "Kids              2754\n",
       "Brother & Wife    2057\n",
       "Mom & Dad         1559\n",
       "Friends             22\n",
       "Name: Profile Name, dtype: int64"
      ]
     },
     "execution_count": 30,
     "metadata": {},
     "output_type": "execute_result"
    }
   ],
   "source": [
    "df['Profile Name'].value_counts()"
   ]
  },
  {
   "cell_type": "code",
   "execution_count": 31,
   "id": "dad21eaa",
   "metadata": {},
   "outputs": [
    {
     "data": {
      "text/plain": [
       "Timedelta('0 days 00:26:23.014537107')"
      ]
     },
     "execution_count": 31,
     "metadata": {},
     "output_type": "execute_result"
    }
   ],
   "source": [
    "df.loc[df['Profile Name']=='Code & Dogs','Duration'].sum()/2614"
   ]
  },
  {
   "cell_type": "code",
   "execution_count": 32,
   "id": "b6873bfb",
   "metadata": {},
   "outputs": [
    {
     "data": {
      "text/plain": [
       "Timedelta('0 days 00:12:41.279242480')"
      ]
     },
     "execution_count": 32,
     "metadata": {},
     "output_type": "execute_result"
    }
   ],
   "source": [
    "df.loc[df['Profile Name']=='Kids','Duration'].sum()/2693"
   ]
  },
  {
   "cell_type": "code",
   "execution_count": 33,
   "id": "f5c4b83a",
   "metadata": {},
   "outputs": [
    {
     "data": {
      "text/plain": [
       "Timedelta('0 days 00:28:54.794250281')"
      ]
     },
     "execution_count": 33,
     "metadata": {},
     "output_type": "execute_result"
    }
   ],
   "source": [
    "df.loc[df['Profile Name']=='Brother & Wife','Duration'].sum()/1774"
   ]
  },
  {
   "cell_type": "code",
   "execution_count": 34,
   "id": "09b4a821",
   "metadata": {},
   "outputs": [
    {
     "data": {
      "text/plain": [
       "Timedelta('0 days 00:28:18.643802647')"
      ]
     },
     "execution_count": 34,
     "metadata": {},
     "output_type": "execute_result"
    }
   ],
   "source": [
    "df.loc[df['Profile Name']=='Mom & Dad','Duration'].sum()/831"
   ]
  },
  {
   "cell_type": "code",
   "execution_count": 35,
   "id": "b657652a",
   "metadata": {},
   "outputs": [
    {
     "data": {
      "text/plain": [
       "Timedelta('0 days 00:36:52.333333333')"
      ]
     },
     "execution_count": 35,
     "metadata": {},
     "output_type": "execute_result"
    }
   ],
   "source": [
    "df.loc[df['Profile Name']=='Friends','Duration'].sum()/18"
   ]
  },
  {
   "cell_type": "code",
   "execution_count": 36,
   "id": "602ee3f9",
   "metadata": {},
   "outputs": [
    {
     "data": {
      "text/plain": [
       "Sony Sony Android TV 2015 Smart TV                   1692\n",
       "Chrome PC (Cadmium)                                  1357\n",
       "Samsung CE 2019 Muse-L UHD TV Smart TV               1184\n",
       "Sony CE Sony Android TV 2020 M5 Smart TV             1111\n",
       "Samsung CE 2020 Nike-L UHD TV Smart TV                935\n",
       "Internet Explorer (Cadmium)                           776\n",
       "FireTV 4K Stick 2018                                  738\n",
       "Panasonic DTV ST50/UT50/XT50/DT50/ET50/ET5/E50/E5     252\n",
       "FireTV Stick 2016                                     241\n",
       "Firefox PC (Cadmium)                                  188\n",
       "Sony Sony Android TV 2018 M2 4K Smart TV              186\n",
       "Apple iPad Pro 12.9 in 5th Gen (Wi-Fi/Cell) iPad      156\n",
       "PC                                                     85\n",
       "DefaultWidevineAndroidTablets                          79\n",
       "Sony PS4                                               79\n",
       "Edge (Cadmium)                                         50\n",
       "Panasonic DTV 2019 MT5813 OLED Atmos200 Smart TV       34\n",
       "DefaultWidevineAndroidPhone                            30\n",
       "Amazon Fire TV Stick 2020 Lite Streaming Stick         26\n",
       "Panasonic 2017 MT5811 FRCTcon TV Smart TV              19\n",
       "FireTV Stick 2014                                      11\n",
       "TPV PHTV19AMT0  Smart TV                                9\n",
       "Sky UK skyamidalade MVPD STB                            8\n",
       "Edge OSS - Windows (Cadmium)                            8\n",
       "Samsung 2013 MStar X12 Smart TV                         6\n",
       "Sky UK IP100 MVPD STB                                   6\n",
       "Sony 2012 Blu-ray Players                               6\n",
       "Android DefaultWidevineL3Tablet Android Tablet          1\n",
       "Name: Device Type, dtype: int64"
      ]
     },
     "execution_count": 36,
     "metadata": {},
     "output_type": "execute_result"
    }
   ],
   "source": [
    "df['Device Type'].value_counts()"
   ]
  },
  {
   "cell_type": "code",
   "execution_count": 37,
   "id": "2567506f",
   "metadata": {},
   "outputs": [
    {
     "data": {
      "image/png": "[encoded data removed]",
      "text/plain": [
       "<Figure size 640x480 with 1 Axes>"
      ]
     },
     "metadata": {},
     "output_type": "display_data"
    }
   ],
   "source": [
    "df['Device Type'].value_counts().plot(kind='bar')\n",
    "plt.show()"
   ]
  },
  {
   "cell_type": "code",
   "execution_count": 42,
   "id": "e6acc1ab",
   "metadata": {},
   "outputs": [],
   "source": [
    "df=df.loc[df['Profile Name'] == 'Code & Dogs']"
   ]
  },
  {
   "cell_type": "code",
   "execution_count": 45,
   "id": "bc2df736",
   "metadata": {},
   "outputs": [
    {
     "data": {
      "text/plain": [
       "Chrome PC (Cadmium)                                 1353\n",
       "Internet Explorer (Cadmium)                          776\n",
       "FireTV 4K Stick 2018                                 204\n",
       "Firefox PC (Cadmium)                                 184\n",
       "Apple iPad Pro 12.9 in 5th Gen (Wi-Fi/Cell) iPad     155\n",
       "PC                                                    85\n",
       "Edge (Cadmium)                                        50\n",
       "DefaultWidevineAndroidPhone                           30\n",
       "FireTV Stick 2016                                     25\n",
       "FireTV Stick 2014                                     11\n",
       "Samsung 2013 MStar X12 Smart TV                        6\n",
       "Amazon Fire TV Stick 2020 Lite Streaming Stick         2\n",
       "Name: Device Type, dtype: int64"
      ]
     },
     "execution_count": 45,
     "metadata": {},
     "output_type": "execute_result"
    }
   ],
   "source": [
    "df['Device Type'].value_counts()"
   ]
  },
  {
   "cell_type": "code",
   "execution_count": 46,
   "id": "e22c6853",
   "metadata": {},
   "outputs": [
    {
     "data": {
      "image/png": "[encoded data removed]",
      "text/plain": [
       "<Figure size 640x480 with 1 Axes>"
      ]
     },
     "metadata": {},
     "output_type": "display_data"
    }
   ],
   "source": [
    "df['Device Type'].value_counts().plot(kind='bar')\n",
    "\n",
    "plt.show()"
   ]
  },
  {
   "cell_type": "code",
   "execution_count": null,
   "id": "c84dd1a6",
   "metadata": {},
   "outputs": [],
   "source": []
  }
 ],
 "metadata": {
  "kernelspec": {
   "display_name": "Python 3 (ipykernel)",
   "language": "python",
   "name": "python3"
  },
  "language_info": {
   "codemirror_mode": {
    "name": "ipython",
    "version": 3
   },
   "file_extension": ".py",
   "mimetype": "text/x-python",
   "name": "python",
   "nbconvert_exporter": "python",
   "pygments_lexer": "ipython3",
   "version": "3.7.6"
  }
 },
 "nbformat": 4,
 "nbformat_minor": 5
}
